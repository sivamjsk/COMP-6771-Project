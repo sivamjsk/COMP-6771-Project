{
 "cells": [
  {
   "cell_type": "markdown",
   "source": [
    "Necessary Code Imports"
   ],
   "metadata": {
    "collapsed": false
   }
  },
  {
   "cell_type": "code",
   "execution_count": 3,
   "metadata": {},
   "outputs": [
    {
     "name": "stderr",
     "output_type": "stream",
     "text": [
      "2023-03-16 13:00:26.349069: I tensorflow/core/platform/cpu_feature_guard.cc:193] This TensorFlow binary is optimized with oneAPI Deep Neural Network Library (oneDNN) to use the following CPU instructions in performance-critical operations:  AVX2 FMA\n",
      "To enable them in other operations, rebuild TensorFlow with the appropriate compiler flags.\n"
     ]
    }
   ],
   "source": [
    "import numpy as np\n",
    "import tensorflow as tf\n",
    "import os\n",
    "import matplotlib.pyplot as plt\n",
    "import random\n",
    "import cv2\n",
    "\n",
    "from sklearn.model_selection import train_test_split\n",
    "from tensorflow.keras.layers import Conv2D, MaxPooling2D, BatchNormalization, UpSampling2D\n",
    "from keras.models import Model\n",
    "from keras.layers import MaxPooling2D, Input, Conv2D, UpSampling2D, BatchNormalization\n",
    "from keras.callbacks import EarlyStopping\n",
    "## print(\"Done importing\")\n"
   ]
  },
  {
   "cell_type": "markdown",
   "source": [
    "Static code variables declarations"
   ],
   "metadata": {
    "collapsed": false
   }
  },
  {
   "cell_type": "code",
   "execution_count": 1,
   "metadata": {},
   "outputs": [],
   "source": [
    "save_model_name = \"awb\"\n",
    "# Size of the training images to be set before traingin\n",
    "img_size = 256\n",
    "\n",
    "#Array declartions for train/test images along with groung truth images\n",
    "train_images = []\n",
    "ground_truth_images = []"
   ]
  },
  {
   "cell_type": "markdown",
   "source": [
    "Collect images  - Iterate over folder to obtain images."
   ],
   "metadata": {
    "collapsed": false
   }
  },
  {
   "cell_type": "code",
   "execution_count": null,
   "outputs": [],
   "source": [
    "path=r\"images/Bad\"\n",
    "counter_train_image = 0;\n",
    "for image in os.listdir(path):\n",
    "    # filteration to avoid hidden file added by MacOS\n",
    "    if (image != \".DS_Store\"):\n",
    "        # Repeatedly iterate the folder to obtain all images\n",
    "        imgages = cv2.imread(os.path.join(path,image) ,cv2.IMREAD_COLOR)\n",
    "        # Resize the images for normalization\n",
    "        train_images_array = cv2.resize(imgages, (img_size, img_size))\n",
    "        train_images.append(train_images_array)\n",
    "        print(\"Saved train color image :\",counter_train_image)\n",
    "        counter_train_image+=1\n",
    "\n",
    "\n",
    "path=r\"images/Good\"\n",
    "counter_groung_image = 0;\n",
    "for image in os.listdir(path):\n",
    "    # filteration to avoid hidden file added by MacOS\n",
    "    if (image != \".DS_Store\"):\n",
    "        # Repeatedly iterate the folder to obtain all images\n",
    "        imgages = cv2.imread(os.path.join(path,image) ,cv2.IMREAD_COLOR)\n",
    "        # Resize the images for normalization\n",
    "        ground_images_array = cv2.resize(imgages, (img_size, img_size))\n",
    "        train_images.append(ground_images_array)\n",
    "        print(\"Saved ground image :\",counter_groung_image)\n",
    "        counter_groung_image+=1"
   ],
   "metadata": {
    "collapsed": false,
    "pycharm": {
     "is_executing": true
    }
   }
  },
  {
   "cell_type": "code",
   "execution_count": null,
   "outputs": [],
   "source": [],
   "metadata": {
    "collapsed": false
   }
  }
 ],
 "metadata": {
  "kernelspec": {
   "display_name": "Python 3 (ipykernel)",
   "language": "python",
   "name": "python3"
  },
  "language_info": {
   "codemirror_mode": {
    "name": "ipython",
    "version": 3
   },
   "file_extension": ".py",
   "mimetype": "text/x-python",
   "name": "python",
   "nbconvert_exporter": "python",
   "pygments_lexer": "ipython3",
   "version": "3.8.16"
  }
 },
 "nbformat": 4,
 "nbformat_minor": 1
}
